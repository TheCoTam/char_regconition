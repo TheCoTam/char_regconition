{
 "cells": [
  {
   "cell_type": "markdown",
   "id": "2c623c2aee91d3ad",
   "metadata": {
    "collapsed": false
   },
   "source": [
    "# Nhận dạng văn bản viết tay\n",
    "\n",
    "..."
   ]
  },
  {
   "cell_type": "markdown",
   "id": "ec5a51aedd3432c3",
   "metadata": {
    "collapsed": false
   },
   "source": [
    "### Nhận dạng văn bản viết tay là gì?\n",
    "\n",
    "Nhận dạng văn bản viết tay là quá trình nhận dạng và chuyển đổi chữ viết tay thành văn bản có thể sử dụng và xử lý được. Nó có ứng dụng rộng rãi trong nhiều lĩnh vực, bao gồm: chuyển đổi tài liệu cổ điển thành văn bản số hóa, xử lý tự động các biểu mẫu hoặc giấy tờ, nhận dạng chữ viết tay trong bức ảnh hoặc video, và hỗ trợ các ứng dụng ghi chú hoặc giao tiếp dựa trên chữ viết tay.\n",
    "\n"
   ]
  },
  {
   "cell_type": "markdown",
   "id": "23eaa489",
   "metadata": {},
   "source": [
    "### Ý nghĩa và ứng dụng :\n",
    "\n",
    "Bài toán Nhận dạng chữ viết có nhiều ứng dụng quan trọng, bao gồm :\n",
    "\n",
    "- Nhận dạng biển số xe: Hệ thống nhận dạng chữ viết có thể được áp dụng để tự động nhận dạng biển số xe trong các hệ thống giám sát giao thông. \n",
    "- Xử lý tự động văn bản: Các hệ thống nhận dạng chữ viết có thể giúp xử lý tự động văn bản, như nhận dạng chữ ký, nhận dạng ý kiến từ dữ liệu văn bản, và hỗ trợ tìm kiếm thông tin từ các tài liệu văn bản.\n",
    "- Giao diện người-máy: Nhận dạng chữ viết cũng có thể được sử dụng trong các ứng dụng giao diện người-máy, như nhận dạng chữ viết tay trong các thiết bị di động hoặc bảng điều khiển. "
   ]
  },
  {
   "cell_type": "markdown",
   "id": "6b506a0f88c21ff7",
   "metadata": {
    "collapsed": false
   },
   "source": [
    "### Phương pháp xử lí:\n",
    "\n",
    "- Bước 1 : Xây dựng classifier để phân loại chữ số (0-9) và ký tự (A-Z) bằng kiến trúc CNN\n",
    "- Bước 2 : Phân đoạn ký tự trong hình ảnh chữ viết tay\n",
    "- Bước 3 : Nhận diện lần lượt từng chữ cái được phân đoạn cho đến hết."
   ]
  },
  {
   "cell_type": "markdown",
   "id": "bec7cfa52b228560",
   "metadata": {
    "collapsed": false
   },
   "source": [
    "##### Thư viện"
   ]
  },
  {
   "cell_type": "code",
   "execution_count": null,
   "id": "initial_id",
   "metadata": {
    "collapsed": true,
    "is_executing": true
   },
   "outputs": [],
   "source": [
    "import keras.models\n",
    "import numpy as np\n",
    "# import pandas as pd\n",
    "from keras.preprocessing.image import ImageDataGenerator\n",
    "import os\n",
    "import random\n",
    "import cv2\n",
    "import imutils\n",
    "import matplotlib.pyplot as plt\n",
    "import pickle\n",
    "import tensorflow as tf\n",
    "# import seaborn as sns\n",
    "from sklearn.preprocessing import LabelBinarizer\n",
    "from keras import utils\n",
    "from keras.models import Sequential\n",
    "from keras import optimizers\n",
    "from sklearn.preprocessing import LabelBinarizer\n",
    "from keras import backend as K\n",
    "from keras.layers import Dense, Activation, Flatten, Dense, MaxPooling2D, Dropout\n",
    "from keras.layers import Conv2D, MaxPooling2D, BatchNormalization"
   ]
  },
  {
   "cell_type": "markdown",
   "id": "4d8b8a59ee74186c",
   "metadata": {
    "collapsed": false
   },
   "source": [
    "# Xử lí dữ liệu"
   ]
  },
  {
   "cell_type": "markdown",
   "id": "56d5f352eaad5a99",
   "metadata": {
    "collapsed": false
   },
   "source": [
    "##### Load dữ lệu huẩn luyện (train data)"
   ]
  },
  {
   "cell_type": "code",
   "execution_count": 2,
   "id": "83dfbb51d10d8a32",
   "metadata": {
    "ExecuteTime": {
     "end_time": "2023-11-04T08:24:06.475417Z",
     "start_time": "2023-11-04T08:17:58.337499900Z"
    },
    "collapsed": false
   },
   "outputs": [],
   "source": [
    "dir = \"input/handwritten-characters/Train/\"\n",
    "train_data = []\n",
    "img_size = 32\n",
    "non_chars = [\"#\", \"$\", \"&\", \"@\"]\n",
    "for i in os.listdir(dir):\n",
    "    if i in non_chars:\n",
    "        continue\n",
    "    count = 0\n",
    "    sub_directory = os.path.join(dir, i)\n",
    "    for j in os.listdir(sub_directory):\n",
    "        # count += 1\n",
    "        # if count > 400:\n",
    "        #     break\n",
    "        img = cv2.imread(os.path.join(sub_directory, j), 0)\n",
    "        img = cv2.resize(img, (img_size, img_size))\n",
    "        train_data.append([img, i])"
   ]
  },
  {
   "cell_type": "markdown",
   "id": "4f8f5755a74f4fe6",
   "metadata": {
    "collapsed": false
   },
   "source": [
    "##### Số lượng dữ liệu huấn luyện (train data)"
   ]
  },
  {
   "cell_type": "code",
   "execution_count": 3,
   "id": "3f1f430477918565",
   "metadata": {
    "ExecuteTime": {
     "end_time": "2023-11-04T08:26:21.998859100Z",
     "start_time": "2023-11-04T08:26:21.889337100Z"
    },
    "collapsed": false
   },
   "outputs": [
    {
     "data": {
      "text/plain": [
       "751228"
      ]
     },
     "execution_count": 3,
     "metadata": {},
     "output_type": "execute_result"
    }
   ],
   "source": [
    "len(train_data)"
   ]
  },
  {
   "cell_type": "markdown",
   "id": "ba0ff8625ce02da8",
   "metadata": {
    "collapsed": false
   },
   "source": [
    "##### Load dữ liệu đánh giá (Validation data)"
   ]
  },
  {
   "cell_type": "code",
   "execution_count": 4,
   "id": "9f28d310b0b15965",
   "metadata": {
    "ExecuteTime": {
     "end_time": "2023-11-04T08:26:30.126556100Z",
     "start_time": "2023-11-04T08:26:23.426898600Z"
    },
    "collapsed": false
   },
   "outputs": [],
   "source": [
    "val_dir = \"input/handwritten-characters/Validation/\"\n",
    "val_data = []\n",
    "img_size = 32\n",
    "for i in os.listdir(val_dir):\n",
    "    if i in non_chars:\n",
    "        continue\n",
    "    count = 0\n",
    "    sub_directory = os.path.join(val_dir, i)\n",
    "    for j in os.listdir(sub_directory):\n",
    "        # count += 1\n",
    "        # if count > 100:\n",
    "        #     break\n",
    "        img = cv2.imread(os.path.join(sub_directory, j), 0)\n",
    "        img = cv2.resize(img, (img_size, img_size))\n",
    "        val_data.append([img, i])"
   ]
  },
  {
   "cell_type": "markdown",
   "id": "eb2311c3431cad3b",
   "metadata": {
    "collapsed": false
   },
   "source": [
    "##### Số lượng dữ liệu đánh giá (Validation data)"
   ]
  },
  {
   "cell_type": "code",
   "execution_count": 5,
   "id": "41bedf3596208b00",
   "metadata": {
    "ExecuteTime": {
     "end_time": "2023-11-04T08:26:32.136972100Z",
     "start_time": "2023-11-04T08:26:32.007713100Z"
    },
    "collapsed": false
   },
   "outputs": [
    {
     "data": {
      "text/plain": [
       "18104"
      ]
     },
     "execution_count": 5,
     "metadata": {},
     "output_type": "execute_result"
    }
   ],
   "source": [
    "len(val_data)"
   ]
  },
  {
   "cell_type": "markdown",
   "id": "cdf9dfa96c43122",
   "metadata": {
    "collapsed": false
   },
   "source": [
    "##### Xáo trộn dữ liệu"
   ]
  },
  {
   "cell_type": "code",
   "execution_count": 6,
   "id": "bc7243405e6da414",
   "metadata": {
    "ExecuteTime": {
     "end_time": "2023-11-04T08:26:34.061352700Z",
     "start_time": "2023-11-04T08:26:33.191863800Z"
    },
    "collapsed": false
   },
   "outputs": [],
   "source": [
    "random.shuffle(train_data)\n",
    "random.shuffle(val_data)"
   ]
  },
  {
   "cell_type": "markdown",
   "id": "58c0cf77b3e42d83",
   "metadata": {
    "collapsed": false
   },
   "source": [
    "##### Phân tách features(đặc trưng) và label (nhãn) của tập dữ liệu huấn luyện (train)"
   ]
  },
  {
   "cell_type": "code",
   "execution_count": 7,
   "id": "34a46f72d6cde8f6",
   "metadata": {
    "ExecuteTime": {
     "end_time": "2023-11-04T08:26:34.596041900Z",
     "start_time": "2023-11-04T08:26:34.065817Z"
    },
    "collapsed": false
   },
   "outputs": [],
   "source": [
    "train_X = []\n",
    "train_Y = []\n",
    "for features, label in train_data:\n",
    "    train_X.append(features)\n",
    "    train_Y.append(label)"
   ]
  },
  {
   "cell_type": "markdown",
   "id": "4fb6861ac7902604",
   "metadata": {
    "collapsed": false
   },
   "source": [
    "##### Phân tách features(đặc trưng) và label (nhãn) của tập dữ liệu đánh giá (Validation data)"
   ]
  },
  {
   "cell_type": "code",
   "execution_count": 8,
   "id": "54fccc40d13ed490",
   "metadata": {
    "ExecuteTime": {
     "end_time": "2023-11-04T08:26:35.461065100Z",
     "start_time": "2023-11-04T08:26:35.344009900Z"
    },
    "collapsed": false
   },
   "outputs": [],
   "source": [
    "val_X = []\n",
    "val_Y = []\n",
    "for features, label in val_data:\n",
    "    val_X.append(features)\n",
    "    val_Y.append(label)"
   ]
  },
  {
   "cell_type": "markdown",
   "id": "c1a6c4687be8ff18",
   "metadata": {
    "collapsed": false
   },
   "source": [
    "##### Mã hóa dữ liệu đích thành dạng ma trận nhị phân"
   ]
  },
  {
   "cell_type": "code",
   "execution_count": 9,
   "id": "77a2a36e90f0f3bc",
   "metadata": {
    "ExecuteTime": {
     "end_time": "2023-11-04T08:26:38.782420500Z",
     "start_time": "2023-11-04T08:26:36.762073700Z"
    },
    "collapsed": false
   },
   "outputs": [],
   "source": [
    "LB = LabelBinarizer()\n",
    "train_Y = LB.fit_transform(train_Y)\n",
    "val_Y = LB.fit_transform(val_Y)"
   ]
  },
  {
   "cell_type": "markdown",
   "id": "32375ac79719a6b5",
   "metadata": {
    "collapsed": false
   },
   "source": [
    "##### Chuyển đổi dữ liệu thành một mảng numpy\n",
    "\n",
    "- Dữ liệu huấn luyện (Train data)"
   ]
  },
  {
   "cell_type": "code",
   "execution_count": 10,
   "id": "daa792056aecd3ee",
   "metadata": {
    "ExecuteTime": {
     "end_time": "2023-11-04T08:27:22.738395400Z",
     "start_time": "2023-11-04T08:26:39.631572800Z"
    },
    "collapsed": false
   },
   "outputs": [],
   "source": [
    "train_X = np.array(train_X) / 255.0\n",
    "train_X = train_X.reshape(-1, 32, 32, 1)\n",
    "train_Y = np.array(train_Y)"
   ]
  },
  {
   "cell_type": "markdown",
   "id": "5968bf6453ef1f9",
   "metadata": {
    "collapsed": false
   },
   "source": [
    "- Dữ liệu đánh giá (Validation data)"
   ]
  },
  {
   "cell_type": "code",
   "execution_count": 11,
   "id": "29d403a7f8d6d648",
   "metadata": {
    "ExecuteTime": {
     "end_time": "2023-11-04T08:27:27.399319700Z",
     "start_time": "2023-11-04T08:27:26.351647300Z"
    },
    "collapsed": false
   },
   "outputs": [],
   "source": [
    "val_X = np.array(val_X) / 255.0\n",
    "val_X = val_X.reshape(-1, 32, 32, 1)\n",
    "val_Y = np.array(val_Y)"
   ]
  },
  {
   "cell_type": "markdown",
   "id": "8307ab74b27778bf",
   "metadata": {
    "collapsed": false
   },
   "source": [
    "##### Kích thước của dữ liệu"
   ]
  },
  {
   "cell_type": "code",
   "execution_count": 12,
   "id": "277c7794446e1787",
   "metadata": {
    "ExecuteTime": {
     "end_time": "2023-11-04T08:27:28.940345100Z",
     "start_time": "2023-11-04T08:27:28.794520900Z"
    },
    "collapsed": false
   },
   "outputs": [
    {
     "name": "stdout",
     "output_type": "stream",
     "text": [
      "(751228, 32, 32, 1) (18104, 32, 32, 1)\n"
     ]
    }
   ],
   "source": [
    "print(train_X.shape,val_X.shape)"
   ]
  },
  {
   "cell_type": "code",
   "execution_count": 13,
   "id": "1bd9797e634e2edc",
   "metadata": {
    "ExecuteTime": {
     "end_time": "2023-11-04T08:27:29.995776700Z",
     "start_time": "2023-11-04T08:27:29.812753600Z"
    },
    "collapsed": false
   },
   "outputs": [
    {
     "name": "stdout",
     "output_type": "stream",
     "text": [
      "(751228, 35) (18104, 35)\n"
     ]
    }
   ],
   "source": [
    "print(train_Y.shape,val_Y.shape)"
   ]
  },
  {
   "cell_type": "markdown",
   "id": "e719d14cc70d6449",
   "metadata": {
    "collapsed": false
   },
   "source": [
    "# Định nghĩa model"
   ]
  },
  {
   "cell_type": "code",
   "execution_count": 14,
   "id": "dcc31e4313e3086e",
   "metadata": {
    "ExecuteTime": {
     "end_time": "2023-11-04T08:27:35.486332300Z",
     "start_time": "2023-11-04T08:27:34.545222600Z"
    },
    "collapsed": false
   },
   "outputs": [],
   "source": [
    "model = Sequential()"
   ]
  },
  {
   "cell_type": "markdown",
   "id": "61f41f247b45f189",
   "metadata": {
    "collapsed": false
   },
   "source": [
    "### Thêm Convolutional layer với 32 kernel, kích thước kernel 3*3\n",
    "#####  dùng hàm relu làm activation và chỉ rõ input_shape cho layer đầu tiên"
   ]
  },
  {
   "cell_type": "code",
   "execution_count": 15,
   "id": "17acf8cb0ed823b1",
   "metadata": {
    "ExecuteTime": {
     "end_time": "2023-11-04T08:27:36.700139100Z",
     "start_time": "2023-11-04T08:27:36.494794800Z"
    },
    "collapsed": false
   },
   "outputs": [],
   "source": [
    "model.add(Conv2D(32, (3, 3), padding = \"same\", activation='relu', input_shape=(32,32,1)))"
   ]
  },
  {
   "cell_type": "markdown",
   "id": "b24b353fe5012da6",
   "metadata": {
    "collapsed": false
   },
   "source": [
    "### Thêm Max pooling layer"
   ]
  },
  {
   "cell_type": "code",
   "execution_count": 16,
   "id": "cf58719637c4e471",
   "metadata": {
    "ExecuteTime": {
     "end_time": "2023-11-04T08:27:38.622920100Z",
     "start_time": "2023-11-04T08:27:38.539592800Z"
    },
    "collapsed": false
   },
   "outputs": [],
   "source": [
    "model.add(MaxPooling2D(pool_size=(2,2)))"
   ]
  },
  {
   "cell_type": "markdown",
   "id": "272dfffaffb20175",
   "metadata": {
    "collapsed": false
   },
   "source": [
    "### Thêm Convolutional layer"
   ]
  },
  {
   "cell_type": "code",
   "execution_count": 17,
   "id": "ece622effdec14ac",
   "metadata": {
    "ExecuteTime": {
     "end_time": "2023-11-04T08:27:40.258431200Z",
     "start_time": "2023-11-04T08:27:40.146831900Z"
    },
    "collapsed": false
   },
   "outputs": [],
   "source": [
    "model.add(Conv2D(64, (3, 3), activation='relu'))"
   ]
  },
  {
   "cell_type": "markdown",
   "id": "78fec90091685146",
   "metadata": {
    "collapsed": false
   },
   "source": [
    "### Thêm Max pooling layer"
   ]
  },
  {
   "cell_type": "code",
   "execution_count": 18,
   "id": "be28e48ed7c1881b",
   "metadata": {
    "ExecuteTime": {
     "end_time": "2023-11-04T08:27:41.164282800Z",
     "start_time": "2023-11-04T08:27:41.125183800Z"
    },
    "collapsed": false
   },
   "outputs": [],
   "source": [
    "model.add(MaxPooling2D(pool_size=(2,2)))"
   ]
  },
  {
   "cell_type": "markdown",
   "id": "b606a46d01278625",
   "metadata": {
    "collapsed": false
   },
   "source": [
    "### Thêm Convolutional layer"
   ]
  },
  {
   "cell_type": "code",
   "execution_count": 19,
   "id": "a811300935aba912",
   "metadata": {
    "ExecuteTime": {
     "end_time": "2023-11-04T08:27:42.552516100Z",
     "start_time": "2023-11-04T08:27:42.479982400Z"
    },
    "collapsed": false
   },
   "outputs": [],
   "source": [
    "model.add(Conv2D(128, (3, 3), activation='relu'))"
   ]
  },
  {
   "cell_type": "markdown",
   "id": "cb400da84414ad22",
   "metadata": {
    "collapsed": false
   },
   "source": [
    "### Thêm Max pooling layer"
   ]
  },
  {
   "cell_type": "code",
   "execution_count": 20,
   "id": "3a8653a88c6ba224",
   "metadata": {
    "ExecuteTime": {
     "end_time": "2023-11-04T08:27:43.525133900Z",
     "start_time": "2023-11-04T08:27:43.457679Z"
    },
    "collapsed": false
   },
   "outputs": [],
   "source": [
    "model.add(MaxPooling2D(pool_size=(2,2)))"
   ]
  },
  {
   "cell_type": "markdown",
   "id": "157ec5898e47530d",
   "metadata": {
    "collapsed": false
   },
   "source": [
    "### Lớp Dropout tránh overfitting"
   ]
  },
  {
   "cell_type": "code",
   "execution_count": 21,
   "id": "bc74420ea1b67884",
   "metadata": {
    "ExecuteTime": {
     "end_time": "2023-11-04T08:27:44.623990600Z",
     "start_time": "2023-11-04T08:27:44.561316200Z"
    },
    "collapsed": false
   },
   "outputs": [],
   "source": [
    "model.add(Dropout(0.25))"
   ]
  },
  {
   "cell_type": "markdown",
   "id": "85552b4dae0f4d91",
   "metadata": {
    "collapsed": false
   },
   "source": [
    "### Flatten layer chuyển từ tensor sang vector"
   ]
  },
  {
   "cell_type": "code",
   "execution_count": 22,
   "id": "9dd12ab496c362c5",
   "metadata": {
    "ExecuteTime": {
     "end_time": "2023-11-04T08:27:45.524090600Z",
     "start_time": "2023-11-04T08:27:45.454651200Z"
    },
    "collapsed": false
   },
   "outputs": [],
   "source": [
    "model.add(Flatten())"
   ]
  },
  {
   "cell_type": "markdown",
   "id": "6e09c3d4797dbea0",
   "metadata": {
    "collapsed": false
   },
   "source": [
    "### Thêm Fully Connected layer với 128 nodes và dùng hàm relu"
   ]
  },
  {
   "cell_type": "code",
   "execution_count": 23,
   "id": "ceb966e3b7e7081e",
   "metadata": {
    "ExecuteTime": {
     "end_time": "2023-11-04T08:27:46.590465100Z",
     "start_time": "2023-11-04T08:27:46.514578200Z"
    },
    "collapsed": false
   },
   "outputs": [],
   "source": [
    "model.add(Dense(128, activation='relu'))"
   ]
  },
  {
   "cell_type": "markdown",
   "id": "8cc583a3e594bc35",
   "metadata": {
    "collapsed": false
   },
   "source": [
    "### Lớp Dropout tránh overfitting"
   ]
  },
  {
   "cell_type": "code",
   "execution_count": 24,
   "id": "d986bc15c81b43ca",
   "metadata": {
    "ExecuteTime": {
     "end_time": "2023-11-04T08:27:47.643906600Z",
     "start_time": "2023-11-04T08:27:47.604227300Z"
    },
    "collapsed": false
   },
   "outputs": [],
   "source": [
    "model.add(Dropout(0.2))"
   ]
  },
  {
   "cell_type": "markdown",
   "id": "dc4129c2385babd4",
   "metadata": {
    "collapsed": false
   },
   "source": [
    "### Output layer với 35 node và dùng softmax function để chuyển sang xác suất."
   ]
  },
  {
   "cell_type": "code",
   "execution_count": 25,
   "id": "e2b95b38cdc59012",
   "metadata": {
    "ExecuteTime": {
     "end_time": "2023-11-04T08:27:48.833905200Z",
     "start_time": "2023-11-04T08:27:48.766450500Z"
    },
    "collapsed": false
   },
   "outputs": [],
   "source": [
    "model.add(Dense(35, activation='softmax'))"
   ]
  },
  {
   "cell_type": "markdown",
   "id": "4f1e8e683a5b5d58",
   "metadata": {
    "ExecuteTime": {
     "end_time": "2023-10-31T16:12:31.824337700Z",
     "start_time": "2023-10-31T16:12:31.629409200Z"
    },
    "collapsed": false
   },
   "source": [
    "# Kiến trúc của mô hình nơ-ron"
   ]
  },
  {
   "cell_type": "code",
   "execution_count": 26,
   "id": "4eaabb42d1fa3c3c",
   "metadata": {
    "ExecuteTime": {
     "end_time": "2023-11-04T08:27:50.168274700Z",
     "start_time": "2023-11-04T08:27:49.990211900Z"
    },
    "collapsed": false
   },
   "outputs": [
    {
     "name": "stdout",
     "output_type": "stream",
     "text": [
      "Model: \"sequential\"\n",
      "_________________________________________________________________\n",
      " Layer (type)                Output Shape              Param #   \n",
      "=================================================================\n",
      " conv2d (Conv2D)             (None, 32, 32, 32)        320       \n",
      "                                                                 \n",
      " max_pooling2d (MaxPooling2  (None, 16, 16, 32)        0         \n",
      " D)                                                              \n",
      "                                                                 \n",
      " conv2d_1 (Conv2D)           (None, 14, 14, 64)        18496     \n",
      "                                                                 \n",
      " max_pooling2d_1 (MaxPoolin  (None, 7, 7, 64)          0         \n",
      " g2D)                                                            \n",
      "                                                                 \n",
      " conv2d_2 (Conv2D)           (None, 5, 5, 128)         73856     \n",
      "                                                                 \n",
      " max_pooling2d_2 (MaxPoolin  (None, 2, 2, 128)         0         \n",
      " g2D)                                                            \n",
      "                                                                 \n",
      " dropout (Dropout)           (None, 2, 2, 128)         0         \n",
      "                                                                 \n",
      " flatten (Flatten)           (None, 512)               0         \n",
      "                                                                 \n",
      " dense (Dense)               (None, 128)               65664     \n",
      "                                                                 \n",
      " dropout_1 (Dropout)         (None, 128)               0         \n",
      "                                                                 \n",
      " dense_1 (Dense)             (None, 35)                4515      \n",
      "                                                                 \n",
      "=================================================================\n",
      "Total params: 162851 (636.14 KB)\n",
      "Trainable params: 162851 (636.14 KB)\n",
      "Non-trainable params: 0 (0.00 Byte)\n",
      "_________________________________________________________________\n"
     ]
    }
   ],
   "source": [
    "model.summary()"
   ]
  },
  {
   "cell_type": "markdown",
   "id": "49f3e8bd491bd63d",
   "metadata": {
    "ExecuteTime": {
     "end_time": "2023-10-31T16:12:39.762114500Z",
     "start_time": "2023-10-31T16:12:39.674820200Z"
    },
    "collapsed": false
   },
   "source": [
    "# Compile model, chỉ rõ hàm loss_function nào được sử dụng, phương thức đùng để tối ưu hàm loss function."
   ]
  },
  {
   "cell_type": "code",
   "execution_count": 27,
   "id": "5be229c885691a46",
   "metadata": {
    "ExecuteTime": {
     "end_time": "2023-11-04T08:27:53.234277600Z",
     "start_time": "2023-11-04T08:27:53.172772800Z"
    },
    "collapsed": false
   },
   "outputs": [],
   "source": [
    "model.compile(loss='categorical_crossentropy', optimizer=\"adam\",metrics=['accuracy'])"
   ]
  },
  {
   "cell_type": "markdown",
   "id": "9bf8a0216d3ae0c0",
   "metadata": {
    "ExecuteTime": {
     "start_time": "2023-10-31T16:12:48.444529200Z"
    },
    "collapsed": false
   },
   "source": [
    "# Thực hiện train model với data"
   ]
  },
  {
   "cell_type": "code",
   "execution_count": 28,
   "id": "9a71cf2683355b85",
   "metadata": {
    "ExecuteTime": {
     "end_time": "2023-11-04T22:44:25.433658500Z",
     "start_time": "2023-11-04T08:27:55.181175800Z"
    },
    "collapsed": false
   },
   "outputs": [
    {
     "name": "stdout",
     "output_type": "stream",
     "text": [
      "Epoch 1/50\n",
      "23476/23476 [==============================] - 1148s 49ms/step - loss: 0.3082 - accuracy: 0.9014 - val_loss: 0.2242 - val_accuracy: 0.9299\n",
      "Epoch 2/50\n",
      "23476/23476 [==============================] - 1128s 48ms/step - loss: 0.2161 - accuracy: 0.9287 - val_loss: 0.2093 - val_accuracy: 0.9331\n",
      "Epoch 3/50\n",
      "23476/23476 [==============================] - 994s 42ms/step - loss: 0.2035 - accuracy: 0.9328 - val_loss: 0.1983 - val_accuracy: 0.9368\n",
      "Epoch 4/50\n",
      "23476/23476 [==============================] - 975s 42ms/step - loss: 0.1973 - accuracy: 0.9344 - val_loss: 0.2042 - val_accuracy: 0.9391\n",
      "Epoch 5/50\n",
      "23476/23476 [==============================] - 986s 42ms/step - loss: 0.1941 - accuracy: 0.9355 - val_loss: 0.1992 - val_accuracy: 0.9345\n",
      "Epoch 6/50\n",
      "23476/23476 [==============================] - 984s 42ms/step - loss: 0.1920 - accuracy: 0.9360 - val_loss: 0.2229 - val_accuracy: 0.9281\n",
      "Epoch 7/50\n",
      "23476/23476 [==============================] - 976s 42ms/step - loss: 0.1913 - accuracy: 0.9366 - val_loss: 0.2129 - val_accuracy: 0.9362\n",
      "Epoch 8/50\n",
      "23476/23476 [==============================] - 980s 42ms/step - loss: 0.1904 - accuracy: 0.9368 - val_loss: 0.2139 - val_accuracy: 0.9336\n",
      "Epoch 9/50\n",
      "23476/23476 [==============================] - 1023s 44ms/step - loss: 0.1891 - accuracy: 0.9370 - val_loss: 0.2061 - val_accuracy: 0.9377\n",
      "Epoch 10/50\n",
      "23476/23476 [==============================] - 1039s 44ms/step - loss: 0.1897 - accuracy: 0.9369 - val_loss: 0.2005 - val_accuracy: 0.9388\n",
      "Epoch 11/50\n",
      "23476/23476 [==============================] - 1036s 44ms/step - loss: 0.1899 - accuracy: 0.9372 - val_loss: 0.2227 - val_accuracy: 0.9345\n",
      "Epoch 12/50\n",
      "23476/23476 [==============================] - 1145s 49ms/step - loss: 0.1896 - accuracy: 0.9373 - val_loss: 0.2152 - val_accuracy: 0.9384\n",
      "Epoch 13/50\n",
      "23476/23476 [==============================] - 926s 39ms/step - loss: 0.1895 - accuracy: 0.9374 - val_loss: 0.2105 - val_accuracy: 0.9374\n",
      "Epoch 14/50\n",
      "23476/23476 [==============================] - 927s 39ms/step - loss: 0.1893 - accuracy: 0.9373 - val_loss: 0.2087 - val_accuracy: 0.9380\n",
      "Epoch 15/50\n",
      "23476/23476 [==============================] - 849s 36ms/step - loss: 0.1899 - accuracy: 0.9372 - val_loss: 0.2160 - val_accuracy: 0.9359\n",
      "Epoch 16/50\n",
      "23476/23476 [==============================] - 855s 36ms/step - loss: 0.1900 - accuracy: 0.9371 - val_loss: 0.2203 - val_accuracy: 0.9369\n",
      "Epoch 17/50\n",
      "23476/23476 [==============================] - 855s 36ms/step - loss: 0.1901 - accuracy: 0.9371 - val_loss: 0.2138 - val_accuracy: 0.9365\n",
      "Epoch 18/50\n",
      "23476/23476 [==============================] - 884s 38ms/step - loss: 0.1903 - accuracy: 0.9372 - val_loss: 0.2065 - val_accuracy: 0.9368\n",
      "Epoch 19/50\n",
      "23476/23476 [==============================] - 937s 40ms/step - loss: 0.1904 - accuracy: 0.9371 - val_loss: 0.2183 - val_accuracy: 0.9361\n",
      "Epoch 20/50\n",
      "23476/23476 [==============================] - 830s 35ms/step - loss: 0.1910 - accuracy: 0.9371 - val_loss: 0.2263 - val_accuracy: 0.9350\n",
      "Epoch 21/50\n",
      "23476/23476 [==============================] - 829s 35ms/step - loss: 0.1903 - accuracy: 0.9371 - val_loss: 0.2230 - val_accuracy: 0.9353\n",
      "Epoch 22/50\n",
      "23476/23476 [==============================] - 944s 40ms/step - loss: 0.1911 - accuracy: 0.9372 - val_loss: 0.2021 - val_accuracy: 0.9405\n",
      "Epoch 23/50\n",
      "23476/23476 [==============================] - 1292s 55ms/step - loss: 0.1915 - accuracy: 0.9370 - val_loss: 0.2226 - val_accuracy: 0.9385\n",
      "Epoch 24/50\n",
      "23476/23476 [==============================] - 1149s 49ms/step - loss: 0.1927 - accuracy: 0.9367 - val_loss: 0.2176 - val_accuracy: 0.9383\n",
      "Epoch 25/50\n",
      "23476/23476 [==============================] - 1073s 46ms/step - loss: 0.1923 - accuracy: 0.9366 - val_loss: 0.2194 - val_accuracy: 0.9365\n",
      "Epoch 26/50\n",
      "23476/23476 [==============================] - 981s 42ms/step - loss: 0.1936 - accuracy: 0.9366 - val_loss: 0.2084 - val_accuracy: 0.9375\n",
      "Epoch 27/50\n",
      "23476/23476 [==============================] - 1305s 56ms/step - loss: 0.1932 - accuracy: 0.9365 - val_loss: 0.2275 - val_accuracy: 0.9313\n",
      "Epoch 28/50\n",
      "23476/23476 [==============================] - 1220s 52ms/step - loss: 0.1935 - accuracy: 0.9365 - val_loss: 0.2188 - val_accuracy: 0.9375\n",
      "Epoch 29/50\n",
      "23476/23476 [==============================] - 1137s 48ms/step - loss: 0.1930 - accuracy: 0.9365 - val_loss: 0.2201 - val_accuracy: 0.9360\n",
      "Epoch 30/50\n",
      "23476/23476 [==============================] - 1326s 56ms/step - loss: 0.1954 - accuracy: 0.9358 - val_loss: 0.2152 - val_accuracy: 0.9365\n",
      "Epoch 31/50\n",
      "23476/23476 [==============================] - 1030s 44ms/step - loss: 0.1990 - accuracy: 0.9356 - val_loss: 0.2098 - val_accuracy: 0.9381\n",
      "Epoch 32/50\n",
      "23476/23476 [==============================] - 958s 41ms/step - loss: 0.1962 - accuracy: 0.9359 - val_loss: 0.2218 - val_accuracy: 0.9354\n",
      "Epoch 33/50\n",
      "23476/23476 [==============================] - 986s 42ms/step - loss: 0.1950 - accuracy: 0.9362 - val_loss: 0.2198 - val_accuracy: 0.9373\n",
      "Epoch 34/50\n",
      "23476/23476 [==============================] - 999s 43ms/step - loss: 0.1961 - accuracy: 0.9358 - val_loss: 0.2194 - val_accuracy: 0.9376\n",
      "Epoch 35/50\n",
      "23476/23476 [==============================] - 1003s 43ms/step - loss: 0.1965 - accuracy: 0.9359 - val_loss: 0.2225 - val_accuracy: 0.9375\n",
      "Epoch 36/50\n",
      "23476/23476 [==============================] - 997s 42ms/step - loss: 0.1971 - accuracy: 0.9357 - val_loss: 0.2189 - val_accuracy: 0.9334\n",
      "Epoch 37/50\n",
      "23476/23476 [==============================] - 983s 42ms/step - loss: 0.1972 - accuracy: 0.9355 - val_loss: 0.2188 - val_accuracy: 0.9369\n",
      "Epoch 38/50\n",
      "23476/23476 [==============================] - 989s 42ms/step - loss: 0.1969 - accuracy: 0.9354 - val_loss: 0.2524 - val_accuracy: 0.9286\n",
      "Epoch 39/50\n",
      "23476/23476 [==============================] - 1049s 45ms/step - loss: 0.1974 - accuracy: 0.9355 - val_loss: 0.2370 - val_accuracy: 0.9352\n",
      "Epoch 40/50\n",
      "23476/23476 [==============================] - 1122s 48ms/step - loss: 0.1970 - accuracy: 0.9355 - val_loss: 0.2419 - val_accuracy: 0.9351\n",
      "Epoch 41/50\n",
      "23476/23476 [==============================] - 1023s 44ms/step - loss: 0.1977 - accuracy: 0.9356 - val_loss: 0.2057 - val_accuracy: 0.9388\n",
      "Epoch 42/50\n",
      "23476/23476 [==============================] - 1080s 46ms/step - loss: 0.1983 - accuracy: 0.9354 - val_loss: 0.2180 - val_accuracy: 0.9382\n",
      "Epoch 43/50\n",
      "23476/23476 [==============================] - 977s 42ms/step - loss: 0.1987 - accuracy: 0.9354 - val_loss: 0.2307 - val_accuracy: 0.9326\n",
      "Epoch 44/50\n",
      "23476/23476 [==============================] - 988s 42ms/step - loss: 0.1998 - accuracy: 0.9348 - val_loss: 0.2322 - val_accuracy: 0.9338\n",
      "Epoch 45/50\n",
      "23476/23476 [==============================] - 1112s 47ms/step - loss: 0.2003 - accuracy: 0.9346 - val_loss: 0.2248 - val_accuracy: 0.9363\n",
      "Epoch 46/50\n",
      "23476/23476 [==============================] - 1008s 43ms/step - loss: 0.2008 - accuracy: 0.9347 - val_loss: 0.2335 - val_accuracy: 0.9279\n",
      "Epoch 47/50\n",
      "23476/23476 [==============================] - 1065s 45ms/step - loss: 0.2009 - accuracy: 0.9346 - val_loss: 0.2315 - val_accuracy: 0.9316\n",
      "Epoch 48/50\n",
      "23476/23476 [==============================] - 1054s 45ms/step - loss: 0.2016 - accuracy: 0.9344 - val_loss: 0.2245 - val_accuracy: 0.9344\n",
      "Epoch 49/50\n",
      "23476/23476 [==============================] - 1029s 44ms/step - loss: 0.2013 - accuracy: 0.9346 - val_loss: 0.2211 - val_accuracy: 0.9345\n",
      "Epoch 50/50\n",
      "23476/23476 [==============================] - 1097s 47ms/step - loss: 0.2018 - accuracy: 0.9345 - val_loss: 0.2266 - val_accuracy: 0.9374\n"
     ]
    }
   ],
   "source": [
    "history = model.fit(train_X,train_Y, epochs=50, batch_size=32, validation_data = (val_X, val_Y),  verbose=1)"
   ]
  },
  {
   "cell_type": "markdown",
   "id": "4393373280979743",
   "metadata": {
    "collapsed": false
   },
   "source": [
    "# Vẽ đồ thị loss, accuracy của training set và validation set"
   ]
  },
  {
   "cell_type": "code",
   "execution_count": 29,
   "id": "6af37fac76fbb07",
   "metadata": {
    "ExecuteTime": {
     "end_time": "2023-11-05T01:18:19.106985Z",
     "start_time": "2023-11-05T01:18:17.941939Z"
    },
    "collapsed": false
   },
   "outputs": [
    {
     "data": {
      "image/png": "[encoded data removed]",
      "text/plain": [
       "<Figure size 640x480 with 1 Axes>"
      ]
     },
     "metadata": {},
     "output_type": "display_data"
    }
   ],
   "source": [
    "fig = plt.figure()\n",
    "numOfEpoch = 50\n",
    "plt.plot(np.arange(0, numOfEpoch), history.history['loss'], label='training loss')\n",
    "plt.plot(np.arange(0, numOfEpoch), history.history['val_loss'], label='validation loss')\n",
    "plt.plot(np.arange(0, numOfEpoch), history.history['accuracy'], label='accuracy')\n",
    "plt.plot(np.arange(0, numOfEpoch), history.history['val_accuracy'], label='validation accuracy')\n",
    "plt.title('Accuracy and Loss')\n",
    "plt.xlabel('Epoch')\n",
    "plt.ylabel('Loss|Accuracy')\n",
    "plt.legend()\n",
    "plt.show()"
   ]
  },
  {
   "cell_type": "markdown",
   "id": "21a1046b8882fdf4",
   "metadata": {
    "collapsed": false
   },
   "source": [
    "# Save model, LabelBinarizer()"
   ]
  },
  {
   "cell_type": "code",
   "execution_count": null,
   "id": "f17907bc7c1831d3",
   "metadata": {
    "collapsed": false
   },
   "outputs": [],
   "source": [
    "model.save(\"output/char_regconition_751228_18104.keras\")\n",
    "model.save(\"output/char_regconition_751228_18104.h5\")\n",
    "history_df = pd.DataFrame(history.history)\n",
    "history_df.to_csv('output/training_history.csv', index=False)"
   ]
  },
  {
   "cell_type": "code",
   "execution_count": 33,
   "id": "c94ff966897d87cc",
   "metadata": {
    "ExecuteTime": {
     "end_time": "2023-11-05T02:43:30.451366800Z",
     "start_time": "2023-11-05T02:43:30.392676700Z"
    },
    "collapsed": false
   },
   "outputs": [],
   "source": [
    "with open('output/lb.pkl', 'wb') as file:\n",
    "    pickle.dump(LB, file)"
   ]
  },
  {
   "cell_type": "markdown",
   "id": "4f374ecdd6f4a0ab",
   "metadata": {
    "collapsed": false
   },
   "source": [
    "# Load model, LabelBinarizer()"
   ]
  },
  {
   "cell_type": "code",
   "execution_count": 33,
   "id": "96c044bcefbe61d7",
   "metadata": {
    "ExecuteTime": {
     "end_time": "2023-11-02T06:18:49.277217100Z",
     "start_time": "2023-11-02T06:18:49.048229500Z"
    },
    "collapsed": false
   },
   "outputs": [],
   "source": [
    "model = keras.models.load_model(\"output/char_regconition_14000_3500.keras\")"
   ]
  },
  {
   "cell_type": "code",
   "execution_count": 34,
   "id": "78cc856f950c44b4",
   "metadata": {
    "ExecuteTime": {
     "end_time": "2023-11-02T06:18:50.014739600Z",
     "start_time": "2023-11-02T06:18:49.972579100Z"
    },
    "collapsed": false
   },
   "outputs": [],
   "source": [
    "LB = LabelBinarizer()\n",
    "with open('output/lb.pkl', 'rb') as file:\n",
    "    LB = pickle.load(file)"
   ]
  },
  {
   "cell_type": "markdown",
   "id": "fecc154803416c9e",
   "metadata": {
    "collapsed": false
   },
   "source": [
    "# Nhận diện nhiều ký tự"
   ]
  },
  {
   "cell_type": "markdown",
   "id": "8b8626038505c410",
   "metadata": {
    "collapsed": false
   },
   "source": [
    "### Hàm xử lí"
   ]
  },
  {
   "cell_type": "code",
   "execution_count": 34,
   "id": "4092acb0872ffe2",
   "metadata": {
    "ExecuteTime": {
     "end_time": "2023-11-05T02:43:46.078352Z",
     "start_time": "2023-11-05T02:43:46.048736300Z"
    },
    "collapsed": false
   },
   "outputs": [],
   "source": [
    "def get_letters(path):\n",
    "    letters = []\n",
    "    \n",
    "    # đọc hình ảnh từ đường dẫn\n",
    "    image = cv2.imread(path)\n",
    "    \n",
    "    # chuyển đổi sang độ xám\n",
    "    gray = cv2.cvtColor(image, cv2.COLOR_BGR2GRAY)\n",
    "    \n",
    "    # Áp dụng ngưỡng để phân biệt chữ cái và nền\n",
    "    thresh = cv2.threshold(gray, 127, 255, cv2.THRESH_BINARY_INV)[1]\n",
    "    \n",
    "    # mở rộng các vùng sáng của hình ảnh\n",
    "    dilated = cv2.dilate(thresh, None, iterations=1)\n",
    "    \n",
    "    # tìm các đường viền trong hình ảnh nhị phân\n",
    "    cnts = cv2.findContours(dilated.copy(), cv2.RETR_EXTERNAL, cv2.CHAIN_APPROX_SIMPLE)\n",
    "    \n",
    "    # danh sách các đường viền\n",
    "    cnts = imutils.grab_contours(cnts)\n",
    "    \n",
    "    # sort_contours: left to right\n",
    "    boundingBoxes = [cv2.boundingRect(c) for c in cnts]\n",
    "    (cnts, boundingBoxes) = zip(*sorted(zip(cnts, boundingBoxes), key=lambda b: b[1][0], reverse=False))\n",
    "    \n",
    "    # duyệt qua từng đường viền\n",
    "    for c in cnts:\n",
    "        # nếu diện tích > 10 thì được coi là một ký tự\n",
    "        if cv2.contourArea(c) > 10:\n",
    "            (x, y, w, h) = cv2.boundingRect(c)\n",
    "            cv2.rectangle(image, (x, y), (x + w, y + h), (0, 255, 0), 1)\n",
    "        \n",
    "        # Lấy vùng quan tâm (region of interest - ROI) \n",
    "        roi = gray[y:y + h, x:x + w]\n",
    "        \n",
    "        # Áp dụng ngưỡng nhị phân nghịch đảo và tự động xác định ngưỡng Otsu\n",
    "        thresh = cv2.threshold(roi, 0, 255, cv2.THRESH_BINARY_INV | cv2.THRESH_OTSU)[1]\n",
    "        \n",
    "        # Điều chỉnh kích thước của ROI thành 32x32 pixel\n",
    "        thresh = cv2.resize(thresh, (32, 32), interpolation=cv2.INTER_CUBIC)\n",
    "        \n",
    "        # Chuyển đổi ROI thành dạng mảng numpy và chuẩn hóa giá trị pixel trong khoảng từ 0 đến 1\n",
    "        thresh = thresh.astype(\"float32\") / 255.0\n",
    "        \n",
    "        # thm 1 chiều mới ở vị trí cuối\n",
    "        thresh = np.expand_dims(thresh, axis=-1)\n",
    "        \n",
    "        # Thay đổi kích thước của mảng thành (1, 32, 32, 1) để phù hợp với kích thước đầu vào của mô hình\n",
    "        thresh = thresh.reshape(1, 32, 32, 1)\n",
    "        \n",
    "        # Sử dụng mô hình (model) để dự đoán\n",
    "        ypred = model.predict(thresh)\n",
    "        \n",
    "        # chuyển đổi các vector thành nhãn ký tự tương ứng\n",
    "        ypred = LB.inverse_transform(ypred)\n",
    "        \n",
    "        # thêm kêt quả vào danh sách letters\n",
    "        [x] = ypred\n",
    "        letters.append(x)\n",
    "        \n",
    "    return letters, image"
   ]
  },
  {
   "cell_type": "code",
   "execution_count": 35,
   "id": "225309c476e57a",
   "metadata": {
    "ExecuteTime": {
     "end_time": "2023-11-05T02:43:47.065494300Z",
     "start_time": "2023-11-05T02:43:47.031239800Z"
    },
    "collapsed": false
   },
   "outputs": [],
   "source": [
    "def get_word(letter):\n",
    "    word = \"\".join(letter)\n",
    "    return word"
   ]
  },
  {
   "cell_type": "markdown",
   "id": "55add47a6014449a",
   "metadata": {
    "collapsed": false
   },
   "source": [
    "# Kiểm tra"
   ]
  },
  {
   "cell_type": "code",
   "execution_count": 36,
   "id": "c6789da0764d4dce",
   "metadata": {
    "ExecuteTime": {
     "end_time": "2023-11-05T02:43:55.330610600Z",
     "start_time": "2023-11-05T02:43:53.680931100Z"
    },
    "collapsed": false
   },
   "outputs": [
    {
     "name": "stdout",
     "output_type": "stream",
     "text": [
      "1/1 [==============================] - 0s 434ms/step\n",
      "1/1 [==============================] - 0s 29ms/step\n",
      "1/1 [==============================] - 0s 29ms/step\n",
      "1/1 [==============================] - 0s 27ms/step\n",
      "1/1 [==============================] - 0s 27ms/step\n",
      "BTNES\n"
     ]
    },
    {
     "data": {
      "text/plain": [
       "<matplotlib.image.AxesImage at 0x1d3912bbee0>"
      ]
     },
     "execution_count": 36,
     "metadata": {},
     "output_type": "execute_result"
    },
    {
     "data": {
      "image/png": "[encoded data removed]",
      "text/plain": [
       "<Figure size 640x480 with 1 Axes>"
      ]
     },
     "metadata": {},
     "output_type": "display_data"
    }
   ],
   "source": [
    "letter,image = get_letters(\"input/handwriting-recognition/train_v2/train/TRAIN_00003.jpg\")\n",
    "word = get_word(letter)\n",
    "print(word)\n",
    "plt.imshow(image)"
   ]
  },
  {
   "cell_type": "code",
   "execution_count": 37,
   "id": "1c3162421efb22b3",
   "metadata": {
    "ExecuteTime": {
     "end_time": "2023-11-05T02:44:00.904414500Z",
     "start_time": "2023-11-05T02:44:00.085928Z"
    },
    "collapsed": false
   },
   "outputs": [
    {
     "name": "stdout",
     "output_type": "stream",
     "text": [
      "1/1 [==============================] - 0s 40ms/step\n",
      "1/1 [==============================] - 0s 34ms/step\n",
      "1/1 [==============================] - 0s 37ms/step\n",
      "1/1 [==============================] - 0s 34ms/step\n",
      "1/1 [==============================] - 0s 38ms/step\n",
      "LIL01\n"
     ]
    },
    {
     "data": {
      "text/plain": [
       "<matplotlib.image.AxesImage at 0x1d39150a100>"
      ]
     },
     "execution_count": 37,
     "metadata": {},
     "output_type": "execute_result"
    },
    {
     "data": {
      "image/png": "[encoded data removed]",
      "text/plain": [
       "<Figure size 640x480 with 1 Axes>"
      ]
     },
     "metadata": {},
     "output_type": "display_data"
    }
   ],
   "source": [
    "letter,image = get_letters(\"input/handwriting-recognition/train_v2/train/TRAIN_00023.jpg\")\n",
    "word = get_word(letter)\n",
    "print(word)\n",
    "plt.imshow(image)"
   ]
  },
  {
   "cell_type": "code",
   "execution_count": 38,
   "id": "eddd18657d6c3604",
   "metadata": {
    "ExecuteTime": {
     "end_time": "2023-11-05T02:44:05.237909100Z",
     "start_time": "2023-11-05T02:44:04.387815800Z"
    },
    "collapsed": false
   },
   "outputs": [
    {
     "name": "stdout",
     "output_type": "stream",
     "text": [
      "1/1 [==============================] - 0s 39ms/step\n",
      "1/1 [==============================] - 0s 31ms/step\n",
      "1/1 [==============================] - 0s 27ms/step\n",
      "1/1 [==============================] - 0s 31ms/step\n",
      "1/1 [==============================] - 0s 30ms/step\n",
      "1/1 [==============================] - 0s 31ms/step\n",
      "1/1 [==============================] - 0s 30ms/step\n",
      "IAFFF1X\n"
     ]
    },
    {
     "data": {
      "text/plain": [
       "<matplotlib.image.AxesImage at 0x1d391425460>"
      ]
     },
     "execution_count": 38,
     "metadata": {},
     "output_type": "execute_result"
    },
    {
     "data": {
      "image/png": "[encoded data removed]",
      "text/plain": [
       "<Figure size 640x480 with 1 Axes>"
      ]
     },
     "metadata": {},
     "output_type": "display_data"
    }
   ],
   "source": [
    "letter,image = get_letters(\"input/handwriting-recognition/train_v2/train/TRAIN_00030.jpg\")\n",
    "word = get_word(letter)\n",
    "print(word)\n",
    "plt.imshow(image)"
   ]
  },
  {
   "cell_type": "code",
   "execution_count": 39,
   "id": "bb3d3b13a7446b08",
   "metadata": {
    "ExecuteTime": {
     "end_time": "2023-11-05T02:44:12.737017500Z",
     "start_time": "2023-11-05T02:44:12.093209100Z"
    },
    "collapsed": false
   },
   "outputs": [
    {
     "name": "stdout",
     "output_type": "stream",
     "text": [
      "1/1 [==============================] - 0s 41ms/step\n",
      "1/1 [==============================] - 0s 27ms/step\n",
      "1/1 [==============================] - 0s 32ms/step\n",
      "1/1 [==============================] - 0s 31ms/step\n",
      "RUFP\n"
     ]
    },
    {
     "data": {
      "text/plain": [
       "<matplotlib.image.AxesImage at 0x1d391255040>"
      ]
     },
     "execution_count": 39,
     "metadata": {},
     "output_type": "execute_result"
    },
    {
     "data": {
      "image/png": "[encoded data removed]",
      "text/plain": [
       "<Figure size 640x480 with 1 Axes>"
      ]
     },
     "metadata": {},
     "output_type": "display_data"
    }
   ],
   "source": [
    "letter,image = get_letters(\"input/handwriting-recognition/validation_v2/validation/VALIDATION_0005.jpg\")\n",
    "word = get_word(letter)\n",
    "print(word)\n",
    "plt.imshow(image)"
   ]
  },
  {
   "cell_type": "code",
   "execution_count": 40,
   "id": "17c0423716407baf",
   "metadata": {
    "ExecuteTime": {
     "end_time": "2023-11-05T02:44:16.851190700Z",
     "start_time": "2023-11-05T02:44:15.813916Z"
    },
    "collapsed": false
   },
   "outputs": [
    {
     "name": "stdout",
     "output_type": "stream",
     "text": [
      "1/1 [==============================] - 0s 37ms/step\n",
      "1/1 [==============================] - 0s 33ms/step\n",
      "1/1 [==============================] - 0s 25ms/step\n",
      "1/1 [==============================] - 0s 25ms/step\n",
      "1/1 [==============================] - 0s 28ms/step\n",
      "1/1 [==============================] - 0s 28ms/step\n",
      "1/1 [==============================] - 0s 32ms/step\n",
      "1/1 [==============================] - 0s 29ms/step\n",
      "1/1 [==============================] - 0s 26ms/step\n",
      "YA1ENTJNR\n"
     ]
    },
    {
     "data": {
      "text/plain": [
       "<matplotlib.image.AxesImage at 0x1d39146cb50>"
      ]
     },
     "execution_count": 40,
     "metadata": {},
     "output_type": "execute_result"
    },
    {
     "data": {
      "image/png": "[encoded data removed]",
      "text/plain": [
       "<Figure size 640x480 with 1 Axes>"
      ]
     },
     "metadata": {},
     "output_type": "display_data"
    }
   ],
   "source": [
    "letter,image = get_letters(\"input/handwriting-recognition/test_v2/test/TEST_0007.jpg\")\n",
    "word = get_word(letter)\n",
    "print(word)\n",
    "plt.imshow(image)"
   ]
  },
  {
   "cell_type": "markdown",
   "id": "b1a6689223b04c59",
   "metadata": {
    "collapsed": false
   },
   "source": [
    "# Đánh giá model"
   ]
  },
  {
   "cell_type": "markdown",
   "id": "9d66c234f08f003f",
   "metadata": {
    "collapsed": false
   },
   "source": [
    "### 0. load Model và tập dữ liệu đánh giá"
   ]
  },
  {
   "cell_type": "code",
   "execution_count": 2,
   "id": "cd0f334101315444",
   "metadata": {
    "ExecuteTime": {
     "end_time": "2023-11-12T15:33:45.625438Z",
     "start_time": "2023-11-12T15:33:38.877654200Z"
    },
    "collapsed": false
   },
   "outputs": [
    {
     "name": "stdout",
     "output_type": "stream",
     "text": [
      "163/163 [==============================] - 3s 15ms/step\n"
     ]
    }
   ],
   "source": [
    "trained_model = keras.models.load_model(\"char_regconition.keras\")\n",
    "with open('label_binarizer.pkl', 'rb') as file:\n",
    "    lb  = pickle.load(file)\n",
    "dataset = []\n",
    "dirt = \"Characters_fonts_dataset\\\\Images\\\\Images\"\n",
    "for i in os.listdir(dirt):  \n",
    "    count = 0\n",
    "    sub_directory = os.path.join(dirt, i)\n",
    "    for j in os.listdir(sub_directory):\n",
    "        count += 1\n",
    "        if count > 200:\n",
    "            break\n",
    "        img = cv2.imread(os.path.join(sub_directory, j), 0)\n",
    "        # img = cv2.resize(img, (32, 32))\n",
    "        dataset.append([img, i])\n",
    "random.shuffle(dataset)\n",
    "x_pred = []\n",
    "y_true = []\n",
    "y_pred = []\n",
    "for feature, label in dataset:\n",
    "    x_pred.append(feature)\n",
    "    y_true.append(label)\n",
    "x_pred = np.array(x_pred)/255.0\n",
    "x_pred = x_pred.reshape(-1, 32, 32, 1)\n",
    "y_pred_lb = trained_model.predict(x_pred)\n",
    "y_pred = lb.inverse_transform(y_pred_lb)"
   ]
  },
  {
   "cell_type": "markdown",
   "id": "67aa9b113c3ba847",
   "metadata": {
    "collapsed": false
   },
   "source": [
    "### 1. Độ chính xác (Accuracy)\n",
    "Đây là tỷ lệ phần trăm các dự đoán chính xác trên tổng số mẫu kiểm tra."
   ]
  },
  {
   "cell_type": "code",
   "execution_count": 3,
   "id": "257b8484d44c134",
   "metadata": {
    "ExecuteTime": {
     "end_time": "2023-11-12T15:34:24.791888Z",
     "start_time": "2023-11-12T15:34:24.698169200Z"
    },
    "collapsed": false
   },
   "outputs": [
    {
     "name": "stdout",
     "output_type": "stream",
     "text": [
      "Accuracy: 0.44846153846153847\n"
     ]
    }
   ],
   "source": [
    "from sklearn.metrics import accuracy_score\n",
    "\n",
    "accuracy = accuracy_score(y_true, y_pred)\n",
    "print(\"Accuracy:\", accuracy)"
   ]
  },
  {
   "cell_type": "markdown",
   "id": "2bd62ac804713f78",
   "metadata": {
    "collapsed": false
   },
   "source": [
    "### 2. Báo cáo phân loại (Classification Report)\n",
    "Cung cấp thông tin về precision, recall, F1-score cho từng lớp."
   ]
  },
  {
   "cell_type": "code",
   "execution_count": 4,
   "id": "af5d0746bc065bd0",
   "metadata": {
    "ExecuteTime": {
     "end_time": "2023-11-12T15:34:56.339598900Z",
     "start_time": "2023-11-12T15:34:56.260732900Z"
    },
    "collapsed": false
   },
   "outputs": [
    {
     "name": "stdout",
     "output_type": "stream",
     "text": [
      "              precision    recall  f1-score   support\n",
      "\n",
      "           0       0.00      0.00      0.00         0\n",
      "           1       0.00      0.00      0.00         0\n",
      "           2       0.00      0.00      0.00         0\n",
      "           3       0.00      0.00      0.00         0\n",
      "           4       0.00      0.00      0.00         0\n",
      "           5       0.00      0.00      0.00         0\n",
      "           6       0.00      0.00      0.00         0\n",
      "           7       0.00      0.00      0.00         0\n",
      "           8       0.00      0.00      0.00         0\n",
      "           9       0.00      0.00      0.00         0\n",
      "           A       0.50      0.54      0.52       200\n",
      "           B       0.58      0.51      0.54       200\n",
      "           C       0.51      0.29      0.37       200\n",
      "           D       0.49      0.39      0.43       200\n",
      "           E       0.57      0.34      0.43       200\n",
      "           F       0.39      0.64      0.48       200\n",
      "           G       0.71      0.21      0.32       200\n",
      "           H       0.65      0.57      0.61       200\n",
      "           I       0.35      0.10      0.15       200\n",
      "           J       0.89      0.45      0.59       200\n",
      "           K       0.90      0.56      0.69       200\n",
      "           L       0.26      0.56      0.35       200\n",
      "           M       0.65      0.50      0.56       200\n",
      "           N       0.37      0.73      0.49       200\n",
      "           O       0.00      0.00      0.00       200\n",
      "           P       0.63      0.69      0.66       200\n",
      "           Q       0.70      0.19      0.30       200\n",
      "           R       0.59      0.46      0.51       200\n",
      "           S       0.92      0.51      0.66       200\n",
      "           T       0.47      0.55      0.51       200\n",
      "           U       0.45      0.44      0.45       200\n",
      "           V       0.89      0.51      0.64       200\n",
      "           W       0.84      0.48      0.61       200\n",
      "           X       0.89      0.59      0.71       200\n",
      "           Y       0.82      0.64      0.72       200\n",
      "           Z       0.77      0.22      0.34       200\n",
      "\n",
      "    accuracy                           0.45      5200\n",
      "   macro avg       0.44      0.32      0.35      5200\n",
      "weighted avg       0.61      0.45      0.49      5200\n"
     ]
    },
    {
     "name": "stderr",
     "output_type": "stream",
     "text": [
      "D:\\PyCharm\\PythonProject\\venv\\Lib\\site-packages\\sklearn\\metrics\\_classification.py:1471: UndefinedMetricWarning: Precision and F-score are ill-defined and being set to 0.0 in labels with no predicted samples. Use `zero_division` parameter to control this behavior.\n",
      "  _warn_prf(average, modifier, msg_start, len(result))\n",
      "D:\\PyCharm\\PythonProject\\venv\\Lib\\site-packages\\sklearn\\metrics\\_classification.py:1471: UndefinedMetricWarning: Recall and F-score are ill-defined and being set to 0.0 in labels with no true samples. Use `zero_division` parameter to control this behavior.\n",
      "  _warn_prf(average, modifier, msg_start, len(result))\n",
      "D:\\PyCharm\\PythonProject\\venv\\Lib\\site-packages\\sklearn\\metrics\\_classification.py:1471: UndefinedMetricWarning: Precision and F-score are ill-defined and being set to 0.0 in labels with no predicted samples. Use `zero_division` parameter to control this behavior.\n",
      "  _warn_prf(average, modifier, msg_start, len(result))\n",
      "D:\\PyCharm\\PythonProject\\venv\\Lib\\site-packages\\sklearn\\metrics\\_classification.py:1471: UndefinedMetricWarning: Recall and F-score are ill-defined and being set to 0.0 in labels with no true samples. Use `zero_division` parameter to control this behavior.\n",
      "  _warn_prf(average, modifier, msg_start, len(result))\n",
      "D:\\PyCharm\\PythonProject\\venv\\Lib\\site-packages\\sklearn\\metrics\\_classification.py:1471: UndefinedMetricWarning: Precision and F-score are ill-defined and being set to 0.0 in labels with no predicted samples. Use `zero_division` parameter to control this behavior.\n",
      "  _warn_prf(average, modifier, msg_start, len(result))\n",
      "D:\\PyCharm\\PythonProject\\venv\\Lib\\site-packages\\sklearn\\metrics\\_classification.py:1471: UndefinedMetricWarning: Recall and F-score are ill-defined and being set to 0.0 in labels with no true samples. Use `zero_division` parameter to control this behavior.\n",
      "  _warn_prf(average, modifier, msg_start, len(result))\n"
     ]
    }
   ],
   "source": [
    "from sklearn.metrics import classification_report\n",
    "\n",
    "report = classification_report(y_true, y_pred)\n",
    "print(report)"
   ]
  },
  {
   "cell_type": "markdown",
   "id": "eb63fea6f7c7b527",
   "metadata": {
    "collapsed": false
   },
   "source": [
    "### 3. ROC Curve và AUC (Area Under the Curve)\n",
    "Đánh giá hiệu suất model dựa trên tỷ lệ true positive và false positive."
   ]
  },
  {
   "cell_type": "code",
   "execution_count": 5,
   "id": "e8f2705d1879cdba",
   "metadata": {
    "ExecuteTime": {
     "end_time": "2023-11-12T15:35:28.872892300Z",
     "start_time": "2023-11-12T15:35:28.512884500Z"
    },
    "collapsed": false
   },
   "outputs": [
    {
     "data": {
      "image/png": "[encoded data removed]",
      "text/plain": [
       "<Figure size 640x480 with 1 Axes>"
      ]
     },
     "metadata": {},
     "output_type": "display_data"
    }
   ],
   "source": [
    "from sklearn.metrics import roc_curve, roc_auc_score\n",
    "import matplotlib.pyplot as plt\n",
    "\n",
    "# Chuyển đổi y_true và y_pred thành giá trị nhị phân\n",
    "LB = LabelBinarizer()\n",
    "y_true_binary = LB.fit_transform(y_true)\n",
    "y_pred_binary = LB.transform(y_pred)\n",
    "\n",
    "# Tính toán roc_curve và auc\n",
    "fpr, tpr, thresholds = roc_curve(y_true_binary.ravel(), y_pred_binary.ravel())\n",
    "auc = roc_auc_score(y_true_binary, y_pred_binary)\n",
    "\n",
    "plt.plot(fpr, tpr, label='ROC Curve (AUC = %0.2f)' % auc)\n",
    "plt.legend()\n",
    "plt.xlabel('False Positive Rate')\n",
    "plt.ylabel('True Positive Rate')\n",
    "plt.title('Receiver Operating Characteristic (ROC) Curve')\n",
    "plt.show()  "
   ]
  },
  {
   "cell_type": "markdown",
   "id": "a0235c51cb30ea98",
   "metadata": {
    "collapsed": false
   },
   "source": [
    "# Khó khăn cần tiếp tục giải quyết"
   ]
  },
  {
   "cell_type": "markdown",
   "id": "62832ddafe265b65",
   "metadata": {
    "collapsed": false
   },
   "source": [
    "- Dù độ chính xác cao (Cả accuracy và validation accuracy đều ổn định ở mức cao), nhưng có một khoảng cách rõ ràng giữa training loss và validation loss. Điều này có thể chỉ ra rằng mô hình có thể đang bắt đầu overfitting.\n",
    "- Việc nhận dạng văn bản phụ thuộc vào việc phát hiện contour. Vì vậy, nếu thư viện opencv không thể tìm thấy contour của ký tự, thì phương pháp này sẽ thất bại.\n",
    "- Cần có nhiều hơn các ví dụ khác nhau để huấn luyện mô hình này vì có thể có nhiều biến thể trong một chữ cái viết tay đơn lẻ về phong cách viết.\n",
    "- Không thể hoạt động với văn bản viết có các ký tự viết nối lại với nhau."
   ]
  }
 ],
 "metadata": {
  "kernelspec": {
   "display_name": "Python 3",
   "language": "python",
   "name": "python3"
  },
  "language_info": {
   "codemirror_mode": {
    "name": "ipython",
    "version": 2
   },
   "file_extension": ".py",
   "mimetype": "text/x-python",
   "name": "python",
   "nbconvert_exporter": "python",
   "pygments_lexer": "ipython2",
   "version": "2.7.6"
  }
 },
 "nbformat": 4,
 "nbformat_minor": 5
}
